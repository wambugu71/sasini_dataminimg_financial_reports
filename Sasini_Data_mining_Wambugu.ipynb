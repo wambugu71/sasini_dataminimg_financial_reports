{
  "cells": [
    {
      "cell_type": "code",
      "execution_count": 1,
      "metadata": {
        "colab": {
          "base_uri": "https://localhost:8080/"
        },
        "id": "zdpzEnFLfZAI",
        "outputId": "911a9e24-9ff9-47d4-e54e-db73f25f5421"
      },
      "outputs": [
        {
          "output_type": "stream",
          "name": "stdout",
          "text": [
            "Collecting tabula-py\n",
            "  Downloading tabula_py-2.9.0-py3-none-any.whl (12.0 MB)\n",
            "\u001b[2K     \u001b[90m━━━━━━━━━━━━━━━━━━━━━━━━━━━━━━━━━━━━━━━━\u001b[0m \u001b[32m12.0/12.0 MB\u001b[0m \u001b[31m38.5 MB/s\u001b[0m eta \u001b[36m0:00:00\u001b[0m\n",
            "\u001b[?25hRequirement already satisfied: pandas>=0.25.3 in /usr/local/lib/python3.10/dist-packages (from tabula-py) (1.5.3)\n",
            "Requirement already satisfied: numpy in /usr/local/lib/python3.10/dist-packages (from tabula-py) (1.23.5)\n",
            "Requirement already satisfied: distro in /usr/lib/python3/dist-packages (from tabula-py) (1.7.0)\n",
            "Requirement already satisfied: python-dateutil>=2.8.1 in /usr/local/lib/python3.10/dist-packages (from pandas>=0.25.3->tabula-py) (2.8.2)\n",
            "Requirement already satisfied: pytz>=2020.1 in /usr/local/lib/python3.10/dist-packages (from pandas>=0.25.3->tabula-py) (2023.3.post1)\n",
            "Requirement already satisfied: six>=1.5 in /usr/local/lib/python3.10/dist-packages (from python-dateutil>=2.8.1->pandas>=0.25.3->tabula-py) (1.16.0)\n",
            "Installing collected packages: tabula-py\n",
            "Successfully installed tabula-py-2.9.0\n"
          ]
        }
      ],
      "source": [
        "! pip install tabula-py"
      ]
    },
    {
      "cell_type": "code",
      "execution_count": 11,
      "metadata": {
        "colab": {
          "base_uri": "https://localhost:8080/"
        },
        "id": "DEOqqS_pDdXv",
        "outputId": "7d71f0c6-d4e8-4034-db7a-c295c8d4af83"
      },
      "outputs": [
        {
          "output_type": "stream",
          "name": "stdout",
          "text": [
            "13 Documents  found  for  financial reports\n",
            "Financial document 0 saved.\n",
            "Financial document 1 saved.\n",
            "Financial document 2 saved.\n",
            "Financial document 3 saved.\n",
            "Financial document 4 saved.\n",
            "Financial document 5 saved.\n",
            "Financial document 6 saved.\n",
            "Financial document 7 saved.\n",
            "Financial document 8 saved.\n",
            "Financial document 9 saved.\n",
            "Financial document 10 saved.\n",
            "Financial document 11 saved.\n",
            "Financial document 12 saved.\n"
          ]
        }
      ],
      "source": [
        "import  requests\n",
        "from urllib import request\n",
        "from bs4 import BeautifulSoup\n",
        "import re\n",
        "import os\n",
        "import urllib\n",
        "url=\"https://sasini.co.ke/downloads/\"\n",
        "response = request.urlopen(url).read()\n",
        "soup= BeautifulSoup(response, \"html.parser\")\n",
        "links   = []\n",
        "for link in soup.find_all('a', class_='wpdm-download-link'):#['data-downloadurl']# href=re.compile(r'(\\bhttps?:\\/\\/[^\\/]+(\\/.*)?\\b)'))\n",
        "    links.append(link.get(\"data-downloadurl\"))\n",
        "\n",
        "pattern = r\"financial\"\n",
        "matches = [item for item in links if re.search(pattern, item)]\n",
        "print(f\"{len(matches)} Documents  found  for  financial reports\")\n",
        "for doc_num,link in enumerate(matches):\n",
        "  urllib.request.urlretrieve(link, f\"/content/sasisni_doc{doc_num}.pdf\")\n",
        "  print(f\"Financial document {doc_num} saved.\")\n"
      ]
    },
    {
      "cell_type": "code",
      "execution_count": 12,
      "metadata": {
        "id": "xl8zDEl5LVDe",
        "colab": {
          "base_uri": "https://localhost:8080/"
        },
        "outputId": "9839e0ce-dccb-4054-9ce0-b5ed43e7838c"
      },
      "outputs": [
        {
          "output_type": "stream",
          "name": "stderr",
          "text": [
            "WARNING:tabula.backend:Got stderr: Jan 13, 2024 7:47:47 AM org.apache.pdfbox.pdmodel.font.PDTrueTypeFont <init>\n",
            "WARNING: Using fallback font 'LiberationSerif-BoldItalic' for 'TimesNewRomanPS-BoldItalicMT'\n",
            "Jan 13, 2024 7:47:47 AM org.apache.pdfbox.pdmodel.font.PDTrueTypeFont <init>\n",
            "WARNING: Using fallback font 'LiberationSerif-BoldItalic' for 'TimesNewRomanPS-BoldItalicMT'\n",
            "Jan 13, 2024 7:47:47 AM org.apache.pdfbox.pdmodel.font.PDTrueTypeFont <init>\n",
            "WARNING: Using fallback font 'LiberationSerif-BoldItalic' for 'TimesNewRomanPS-BoldItalicMT'\n",
            "Jan 13, 2024 7:47:48 AM org.apache.pdfbox.pdmodel.font.PDTrueTypeFont <init>\n",
            "WARNING: Using fallback font 'LiberationSerif-BoldItalic' for 'TimesNewRomanPS-BoldItalicMT'\n",
            "Jan 13, 2024 7:47:48 AM org.apache.pdfbox.pdmodel.font.PDTrueTypeFont <init>\n",
            "WARNING: Using fallback font 'LiberationSerif-BoldItalic' for 'TimesNewRomanPS-BoldItalicMT'\n",
            "Jan 13, 2024 7:47:49 AM org.apache.pdfbox.pdmodel.font.PDTrueTypeFont <init>\n",
            "WARNING: Using fallback font 'LiberationSerif-BoldItalic' for 'TimesNewRomanPS-BoldItalicMT'\n",
            "Jan 13, 2024 7:47:52 AM org.apache.pdfbox.pdmodel.font.PDTrueTypeFont <init>\n",
            "WARNING: Using fallback font 'LiberationSerif-Bold' for 'TimesNewRomanPS-BoldMT'\n",
            "Jan 13, 2024 7:47:52 AM org.apache.pdfbox.pdmodel.font.PDTrueTypeFont <init>\n",
            "WARNING: Using fallback font 'LiberationSerif' for 'TimesNewRomanPSMT'\n",
            "Jan 13, 2024 7:47:52 AM org.apache.pdfbox.pdmodel.font.PDTrueTypeFont <init>\n",
            "WARNING: Using fallback font 'LiberationSerif-Bold' for 'TimesNewRomanPS-BoldMT'\n",
            "Jan 13, 2024 7:47:52 AM org.apache.pdfbox.pdmodel.font.PDTrueTypeFont <init>\n",
            "WARNING: Using fallback font 'LiberationSerif' for 'TimesNewRomanPSMT'\n",
            "Jan 13, 2024 7:48:04 AM org.apache.pdfbox.pdmodel.font.PDTrueTypeFont <init>\n",
            "WARNING: Using fallback font 'LiberationSerif-BoldItalic' for 'TimesNewRomanPS-BoldItalicMT'\n",
            "Jan 13, 2024 7:48:05 AM org.apache.pdfbox.pdmodel.font.PDTrueTypeFont <init>\n",
            "WARNING: Using fallback font 'LiberationSerif-BoldItalic' for 'TimesNewRomanPS-BoldItalicMT'\n",
            "Jan 13, 2024 7:48:05 AM org.apache.pdfbox.pdmodel.font.PDTrueTypeFont <init>\n",
            "WARNING: Using fallback font 'LiberationSerif-BoldItalic' for 'TimesNewRomanPS-BoldItalicMT'\n",
            "Jan 13, 2024 7:48:05 AM org.apache.pdfbox.pdmodel.font.PDTrueTypeFont <init>\n",
            "WARNING: Using fallback font 'LiberationSerif-BoldItalic' for 'TimesNewRomanPS-BoldItalicMT'\n",
            "Jan 13, 2024 7:48:08 AM org.apache.pdfbox.pdmodel.font.PDTrueTypeFont <init>\n",
            "WARNING: Using fallback font 'LiberationSerif-BoldItalic' for 'TimesNewRomanPS-BoldItalicMT'\n",
            "Jan 13, 2024 7:48:09 AM org.apache.pdfbox.pdmodel.font.PDTrueTypeFont <init>\n",
            "WARNING: Using fallback font 'LiberationSerif-BoldItalic' for 'TimesNewRomanPS-BoldItalicMT'\n",
            "Jan 13, 2024 7:48:09 AM org.apache.pdfbox.pdmodel.font.PDTrueTypeFont <init>\n",
            "WARNING: Using fallback font 'LiberationSerif-BoldItalic' for 'TimesNewRomanPS-BoldItalicMT'\n",
            "Jan 13, 2024 7:48:12 AM org.apache.pdfbox.pdmodel.font.PDTrueTypeFont <init>\n",
            "WARNING: Using fallback font 'LiberationSerif-BoldItalic' for 'TimesNewRomanPS-BoldItalicMT'\n",
            "Jan 13, 2024 7:48:13 AM org.apache.pdfbox.pdmodel.font.PDTrueTypeFont <init>\n",
            "WARNING: Using fallback font 'LiberationSerif-BoldItalic' for 'TimesNewRomanPS-BoldItalicMT'\n",
            "Jan 13, 2024 7:48:16 AM org.apache.pdfbox.pdmodel.font.PDTrueTypeFont <init>\n",
            "WARNING: Using fallback font 'LiberationSerif-BoldItalic' for 'TimesNewRomanPS-BoldItalicMT'\n",
            "Jan 13, 2024 7:48:19 AM org.apache.pdfbox.pdmodel.font.PDTrueTypeFont <init>\n",
            "WARNING: Using fallback font 'LiberationSerif-BoldItalic' for 'TimesNewRomanPS-BoldItalicMT'\n",
            "Jan 13, 2024 7:48:40 AM org.apache.pdfbox.pdmodel.font.PDTrueTypeFont <init>\n",
            "WARNING: Using fallback font 'LiberationSerif-Italic' for 'TimesNewRomanPS-ItalicMT'\n",
            "Jan 13, 2024 7:48:40 AM org.apache.pdfbox.pdmodel.font.PDTrueTypeFont <init>\n",
            "WARNING: Using fallback font 'LiberationSerif-Italic' for 'TimesNewRomanPS-ItalicMT'\n",
            "Jan 13, 2024 7:48:41 AM org.apache.pdfbox.pdmodel.font.PDTrueTypeFont <init>\n",
            "WARNING: Using fallback font 'LiberationSerif-Italic' for 'TimesNewRomanPS-ItalicMT'\n",
            "Jan 13, 2024 7:48:51 AM org.apache.pdfbox.pdmodel.font.PDTrueTypeFont <init>\n",
            "WARNING: Using fallback font 'LiberationSerif-Italic' for 'TimesNewRomanPS-ItalicMT'\n",
            "Jan 13, 2024 7:48:52 AM org.apache.pdfbox.pdmodel.font.PDTrueTypeFont <init>\n",
            "WARNING: Using fallback font 'LiberationSerif-BoldItalic' for 'TimesNewRomanPS-BoldItalicMT'\n",
            "Jan 13, 2024 7:48:52 AM org.apache.pdfbox.pdmodel.font.PDTrueTypeFont <init>\n",
            "WARNING: Using fallback font 'LiberationSerif-BoldItalic' for 'TimesNewRomanPS-BoldItalicMT'\n",
            "Jan 13, 2024 7:48:53 AM org.apache.pdfbox.pdmodel.font.PDTrueTypeFont <init>\n",
            "WARNING: Using fallback font 'LiberationSerif-BoldItalic' for 'TimesNewRomanPS-BoldItalicMT'\n",
            "Jan 13, 2024 7:48:53 AM org.apache.pdfbox.pdmodel.font.PDTrueTypeFont <init>\n",
            "WARNING: Using fallback font 'LiberationSerif-BoldItalic' for 'TimesNewRomanPS-BoldItalicMT'\n",
            "Jan 13, 2024 7:48:53 AM org.apache.pdfbox.pdmodel.font.PDTrueTypeFont <init>\n",
            "WARNING: Using fallback font 'LiberationSerif-Italic' for 'TimesNewRomanPS-ItalicMT'\n",
            "Jan 13, 2024 7:48:53 AM org.apache.pdfbox.pdmodel.font.PDTrueTypeFont <init>\n",
            "WARNING: Using fallback font 'LiberationSerif-BoldItalic' for 'TimesNewRomanPS-BoldItalicMT'\n",
            "Jan 13, 2024 7:48:53 AM org.apache.pdfbox.pdmodel.font.PDTrueTypeFont <init>\n",
            "WARNING: Using fallback font 'LiberationSerif-Italic' for 'TimesNewRomanPS-ItalicMT'\n",
            "Jan 13, 2024 7:48:54 AM org.apache.pdfbox.pdmodel.font.PDTrueTypeFont <init>\n",
            "WARNING: Using fallback font 'LiberationSerif-BoldItalic' for 'TimesNewRomanPS-BoldItalicMT'\n",
            "Jan 13, 2024 7:48:54 AM org.apache.pdfbox.pdmodel.font.PDTrueTypeFont <init>\n",
            "WARNING: Using fallback font 'LiberationSerif-BoldItalic' for 'TimesNewRomanPS-BoldItalicMT'\n",
            "Jan 13, 2024 7:48:55 AM org.apache.pdfbox.pdmodel.font.PDTrueTypeFont <init>\n",
            "WARNING: Using fallback font 'LiberationSerif-BoldItalic' for 'TimesNewRomanPS-BoldItalicMT'\n",
            "Jan 13, 2024 7:48:55 AM org.apache.pdfbox.pdmodel.font.PDTrueTypeFont <init>\n",
            "WARNING: Using fallback font 'LiberationSerif-Italic' for 'TimesNewRomanPS-ItalicMT'\n",
            "Jan 13, 2024 7:48:55 AM org.apache.pdfbox.pdmodel.font.PDTrueTypeFont <init>\n",
            "WARNING: Using fallback font 'LiberationSerif-BoldItalic' for 'TimesNewRomanPS-BoldItalicMT'\n",
            "Jan 13, 2024 7:48:55 AM org.apache.pdfbox.pdmodel.font.PDTrueTypeFont <init>\n",
            "WARNING: Using fallback font 'LiberationSerif-BoldItalic' for 'TimesNewRomanPS-BoldItalicMT'\n",
            "Jan 13, 2024 7:48:55 AM org.apache.pdfbox.pdmodel.font.PDTrueTypeFont <init>\n",
            "WARNING: Using fallback font 'LiberationSerif-Italic' for 'TimesNewRomanPS-ItalicMT'\n",
            "Jan 13, 2024 7:48:55 AM org.apache.pdfbox.pdmodel.font.PDTrueTypeFont <init>\n",
            "WARNING: Using fallback font 'LiberationSerif-BoldItalic' for 'TimesNewRomanPS-BoldItalicMT'\n",
            "Jan 13, 2024 7:48:55 AM org.apache.pdfbox.pdmodel.font.PDTrueTypeFont <init>\n",
            "WARNING: Using fallback font 'LiberationSerif-Italic' for 'TimesNewRomanPS-ItalicMT'\n",
            "Jan 13, 2024 7:48:56 AM org.apache.pdfbox.pdmodel.font.PDTrueTypeFont <init>\n",
            "WARNING: Using fallback font 'LiberationSerif-BoldItalic' for 'TimesNewRomanPS-BoldItalicMT'\n",
            "Jan 13, 2024 7:48:56 AM org.apache.pdfbox.pdmodel.font.PDTrueTypeFont <init>\n",
            "WARNING: Using fallback font 'LiberationSerif-Italic' for 'TimesNewRomanPS-ItalicMT'\n",
            "Jan 13, 2024 7:48:56 AM org.apache.pdfbox.pdmodel.font.PDTrueTypeFont <init>\n",
            "WARNING: Using fallback font 'LiberationSerif-BoldItalic' for 'TimesNewRomanPS-BoldItalicMT'\n",
            "Jan 13, 2024 7:48:56 AM org.apache.pdfbox.pdmodel.font.PDTrueTypeFont <init>\n",
            "WARNING: Using fallback font 'LiberationSerif-Italic' for 'TimesNewRomanPS-ItalicMT'\n",
            "Jan 13, 2024 7:48:56 AM org.apache.pdfbox.pdmodel.font.PDTrueTypeFont <init>\n",
            "WARNING: Using fallback font 'LiberationSerif-BoldItalic' for 'TimesNewRomanPS-BoldItalicMT'\n",
            "Jan 13, 2024 7:48:56 AM org.apache.pdfbox.pdmodel.font.PDTrueTypeFont <init>\n",
            "WARNING: Using fallback font 'LiberationSerif-Italic' for 'TimesNewRomanPS-ItalicMT'\n",
            "Jan 13, 2024 7:48:56 AM org.apache.pdfbox.pdmodel.font.PDTrueTypeFont <init>\n",
            "WARNING: Using fallback font 'LiberationSerif-BoldItalic' for 'TimesNewRomanPS-BoldItalicMT'\n",
            "Jan 13, 2024 7:48:57 AM org.apache.pdfbox.pdmodel.font.PDTrueTypeFont <init>\n",
            "WARNING: Using fallback font 'LiberationSerif-BoldItalic' for 'TimesNewRomanPS-BoldItalicMT'\n",
            "Jan 13, 2024 7:48:57 AM org.apache.pdfbox.pdmodel.font.PDTrueTypeFont <init>\n",
            "WARNING: Using fallback font 'LiberationSerif-BoldItalic' for 'TimesNewRomanPS-BoldItalicMT'\n",
            "Jan 13, 2024 7:48:57 AM org.apache.pdfbox.pdmodel.font.PDTrueTypeFont <init>\n",
            "WARNING: Using fallback font 'LiberationSerif-BoldItalic' for 'TimesNewRomanPS-BoldItalicMT'\n",
            "Jan 13, 2024 7:48:57 AM org.apache.pdfbox.pdmodel.font.PDTrueTypeFont <init>\n",
            "WARNING: Using fallback font 'LiberationSerif-BoldItalic' for 'TimesNewRomanPS-BoldItalicMT'\n",
            "Jan 13, 2024 7:48:58 AM org.apache.pdfbox.pdmodel.font.PDTrueTypeFont <init>\n",
            "WARNING: Using fallback font 'LiberationSerif-BoldItalic' for 'TimesNewRomanPS-BoldItalicMT'\n",
            "Jan 13, 2024 7:48:58 AM org.apache.pdfbox.pdmodel.font.PDTrueTypeFont <init>\n",
            "WARNING: Using fallback font 'LiberationSerif-BoldItalic' for 'TimesNewRomanPS-BoldItalicMT'\n",
            "Jan 13, 2024 7:48:58 AM org.apache.pdfbox.pdmodel.font.PDTrueTypeFont <init>\n",
            "WARNING: Using fallback font 'LiberationSerif-BoldItalic' for 'TimesNewRomanPS-BoldItalicMT'\n",
            "Jan 13, 2024 7:48:58 AM org.apache.pdfbox.pdmodel.font.PDTrueTypeFont <init>\n",
            "WARNING: Using fallback font 'LiberationSerif-Italic' for 'TimesNewRomanPS-ItalicMT'\n",
            "Jan 13, 2024 7:48:58 AM org.apache.pdfbox.pdmodel.font.PDTrueTypeFont <init>\n",
            "WARNING: Using fallback font 'LiberationSerif-BoldItalic' for 'TimesNewRomanPS-BoldItalicMT'\n",
            "Jan 13, 2024 7:49:07 AM org.apache.pdfbox.pdmodel.font.PDTrueTypeFont <init>\n",
            "WARNING: Using fallback font 'LiberationSerif-BoldItalic' for 'TimesNewRomanPS-BoldItalicMT'\n",
            "\n"
          ]
        }
      ],
      "source": [
        "import  os\n",
        "from IPython.display import  display\n",
        "import  tabula\n",
        "files  =  os.listdir()\n",
        "dataframes   =  []\n",
        "pdf_files = [file for file in files if file.lower().endswith('.pdf')]\n",
        "for pdf in pdf_files:\n",
        "  df = tabula.read_pdf(pdf, pages  = \"all\")\n",
        "  dataframes.append(df)"
      ]
    },
    {
      "cell_type": "code",
      "execution_count": 13,
      "metadata": {
        "colab": {
          "base_uri": "https://localhost:8080/"
        },
        "id": "7sKJ-5ATM9Qm",
        "outputId": "a6ad3e8d-3fc0-402d-c220-aa2cd293d3d7"
      },
      "outputs": [
        {
          "output_type": "stream",
          "name": "stdout",
          "text": [
            "13\n"
          ]
        }
      ],
      "source": [
        "print(len(dataframes))"
      ]
    },
    {
      "cell_type": "code",
      "source": [
        "import  pandas as  pd\n",
        "import  numpy as  np\n",
        "data_array = np.array(dataframes)"
      ],
      "metadata": {
        "colab": {
          "base_uri": "https://localhost:8080/"
        },
        "id": "jmn08bxlzXSm",
        "outputId": "1fffef5f-fe2f-4c2f-9ca6-09a4650bb04d"
      },
      "execution_count": 36,
      "outputs": [
        {
          "output_type": "stream",
          "name": "stderr",
          "text": [
            "<ipython-input-36-0f0a8d8ea496>:3: VisibleDeprecationWarning: Creating an ndarray from ragged nested sequences (which is a list-or-tuple of lists-or-tuples-or ndarrays with different lengths or shapes) is deprecated. If you meant to do this, you must specify 'dtype=object' when creating the ndarray.\n",
            "  data_array = np.array(dataframes)\n"
          ]
        }
      ]
    },
    {
      "cell_type": "code",
      "source": [
        "data_frames = []\n",
        "for  data in data_array:\n",
        "  data_frames.append(pd.concat(data, axis = 0))"
      ],
      "metadata": {
        "id": "RzT7vlH81DGR"
      },
      "execution_count": 57,
      "outputs": []
    },
    {
      "cell_type": "code",
      "source": [
        "df  = pd.concat(data_frames, axis =0)"
      ],
      "metadata": {
        "id": "hnOfkaPQ2WjE"
      },
      "execution_count": 60,
      "outputs": []
    },
    {
      "cell_type": "code",
      "source": [
        "df.to_csv(\"sasini_data.csv\")"
      ],
      "metadata": {
        "id": "lh-w55EIzE6a"
      },
      "execution_count": 63,
      "outputs": []
    }
  ],
  "metadata": {
    "colab": {
      "provenance": []
    },
    "kernelspec": {
      "display_name": "Python 3",
      "name": "python3"
    },
    "language_info": {
      "name": "python"
    }
  },
  "nbformat": 4,
  "nbformat_minor": 0
}